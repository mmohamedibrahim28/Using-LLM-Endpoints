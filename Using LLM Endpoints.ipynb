{
 "cells": [
  {
   "cell_type": "markdown",
   "metadata": {},
   "source": [
    "# 1. Prerequisites\n",
    "Python 3.x installed\n",
    "\n",
    "requests library (pip install requests)\n",
    "\n",
    "(Optional) an NVIDIA NIM API key (get one at build.nvidia.com by clicking \"Get API Key\")"
   ]
  },
  {
   "cell_type": "markdown",
   "metadata": {},
   "source": [
    "# 2. Find and Get Your API Key\n",
    "Go to build.nvidia.com.\n",
    "\n",
    "Pick a model (e.g., Mixtral-8x7b, Llama).\n",
    "\n",
    "Click \"Get API Key\" and save the value (it starts with nvapi-...)."
   ]
  },
  {
   "cell_type": "markdown",
   "metadata": {},
   "source": [
    "# 3. Make Your First API Request"
   ]
  },
  {
   "cell_type": "code",
   "execution_count": null,
   "metadata": {},
   "outputs": [],
   "source": [
    "# import requests\n",
    "import json\n",
    "\n",
    "API_URL = \"https://integrate.api.nvidia.com/v1/chat/completions\"\n",
    "API_KEY = \"nvapi-...\"  # Replace with your key\n",
    "\n",
    "headers = {\n",
    "    \"Content-Type\": \"application/json\",\n",
    "    \"Authorization\": f\"Bearer {API_KEY}\"\n",
    "}\n",
    "\n",
    "data = {\n",
    "    \"model\": \"mistralai/mixtral-8x7b-instruct-v0.1\",\n",
    "    \"messages\": [{\"role\": \"user\", \"content\": \"Say hello in French!\"}],\n",
    "    \"temperature\": 0.5,\n",
    "    \"max_tokens\": 100,\n",
    "}\n",
    "\n",
    "response = requests.post(API_URL, headers=headers, json=data)\n",
    "print(response.json())"
   ]
  },
  {
   "cell_type": "markdown",
   "metadata": {},
   "source": [
    "# 4. See All Available Models"
   ]
  },
  {
   "cell_type": "code",
   "execution_count": null,
   "metadata": {},
   "outputs": [],
   "source": [
    "models_url = \"https://integrate.api.nvidia.com/v1/models\"\n",
    "response = requests.get(models_url, headers=headers)\n",
    "models = response.json().get(\"data\", [])\n",
    "for model in models:\n",
    "    print(model.get(\"id\"))\n"
   ]
  },
  {
   "cell_type": "markdown",
   "metadata": {},
   "source": [
    "# 5. Streaming Responses\n",
    "If you want to display streaming tokens as they arrive (like a chatbot):"
   ]
  },
  {
   "cell_type": "code",
   "execution_count": null,
   "metadata": {},
   "outputs": [],
   "source": [
    "headers[\"Accept\"] = \"text/event-stream\"\n",
    "response = requests.post(API_URL, headers=headers, json=data, stream=True)\n",
    "\n",
    "def stream_response(resp):\n",
    "    for line in resp.iter_lines():\n",
    "        if line and line.startswith(b\"data: \"):\n",
    "            chunk = json.loads(line[6:])\n",
    "            print(chunk[\"choices\"][0][\"delta\"].get(\"content\", \"\"), end=\"\")\n",
    "\n",
    "stream_response(response)\n"
   ]
  },
  {
   "cell_type": "markdown",
   "metadata": {},
   "source": [
    "# 6. Using the OpenAI Python Client (Optional)\n",
    "If you’re familiar with the OpenAI API, you can use their Python client with NVIDIA endpoints:"
   ]
  },
  {
   "cell_type": "code",
   "execution_count": null,
   "metadata": {},
   "outputs": [],
   "source": [
    "from openai import OpenAI\n",
    "\n",
    "client = OpenAI(\n",
    "    base_url=\"https://integrate.api.nvidia.com/v1\",\n",
    "    api_key=API_KEY\n",
    ")\n",
    "\n",
    "response = client.chat.completions.create(\n",
    "    model=\"mistralai/mixtral-8x7b-instruct-v0.1\",\n",
    "    messages=[{\"role\": \"user\", \"content\": \"Hello World!\"}],\n",
    "    temperature=1,\n",
    "    max_tokens=100\n",
    ")\n",
    "print(response.choices[0].message.content)\n"
   ]
  },
  {
   "cell_type": "markdown",
   "metadata": {},
   "source": [
    "# 7. Summary\n",
    "You can try out many high-end AI models by getting an API key and sending a couple of lines of Python code.\n",
    "\n",
    "Use /v1/models to see what’s available.\n",
    "\n",
    "Send to /v1/chat/completions with your prompt to get a response.\n",
    "\n",
    "Use streaming for real-time output.\n",
    "\n",
    "Optional: Connect via the OpenAI Python client for even easier use."
   ]
  },
  {
   "cell_type": "code",
   "execution_count": null,
   "metadata": {},
   "outputs": [],
   "source": []
  }
 ],
 "metadata": {
  "kernelspec": {
   "display_name": "Python 3",
   "language": "python",
   "name": "python3"
  },
  "language_info": {
   "codemirror_mode": {
    "name": "ipython",
    "version": 3
   },
   "file_extension": ".py",
   "mimetype": "text/x-python",
   "name": "python",
   "nbconvert_exporter": "python",
   "pygments_lexer": "ipython3",
   "version": "3.8.3"
  }
 },
 "nbformat": 4,
 "nbformat_minor": 4
}
